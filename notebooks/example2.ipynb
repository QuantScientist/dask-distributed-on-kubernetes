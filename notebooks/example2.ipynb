{
 "cells": [
  {
   "cell_type": "code",
   "execution_count": 8,
   "metadata": {
    "collapsed": false
   },
   "outputs": [],
   "source": [
    "# mhcflurry_cloud example\n",
    "# Runs cross validation over a few models.\n",
    "#\n",
    "import mhcflurry_cloud\n",
    "import mhcflurry\n",
    "import fancyimpute\n",
    "import distributed\n",
    "import distributed.joblib\n",
    "import joblib"
   ]
  },
  {
   "cell_type": "code",
   "execution_count": 3,
   "metadata": {
    "collapsed": false
   },
   "outputs": [],
   "source": [
    "cluster = distributed.LocalCluster(n_workers=4, threads_per_worker=2, scheduler_port=0)"
   ]
  },
  {
   "cell_type": "code",
   "execution_count": 10,
   "metadata": {
    "collapsed": false
   },
   "outputs": [
    {
     "data": {
      "text/plain": [
       "'multiprocessing'"
      ]
     },
     "execution_count": 10,
     "metadata": {},
     "output_type": "execute_result"
    }
   ],
   "source": [
    "joblib.parallel.DEFAULT_BACKEND = 'distributed'"
   ]
  },
  {
   "cell_type": "code",
   "execution_count": 5,
   "metadata": {
    "collapsed": true
   },
   "outputs": [],
   "source": [
    "with joblib.parallel_backend('distributed', scheduler_host='localhost:8786')"
   ]
  },
  {
   "cell_type": "code",
   "execution_count": null,
   "metadata": {
    "collapsed": false
   },
   "outputs": [],
   "source": [
    "# Load some data.\n",
    "train_data = mhcflurry.dataset.Dataset.from_csv(\"../test/data/bdata.2009.mhci.public.1.txt\")\n",
    "train_data"
   ]
  },
  {
   "cell_type": "code",
   "execution_count": null,
   "metadata": {
    "collapsed": false
   },
   "outputs": [],
   "source": [
    "# Generate cross validation folds, with imputation.\n",
    "imputer = fancyimpute.MICE(n_imputations=2, n_burn_in=1, n_nearest_columns=25)\n",
    "\n",
    "folds = mhcflurry_cloud.cross_validation_folds(\n",
    "    train_data,\n",
    "    n_folds=3,\n",
    "    imputer=imputer,\n",
    "    drop_similar_peptides=True,\n",
    "    alleles=[\"HLA-A0201\", \"HLA-A0202\"],\n",
    "    n_jobs=-1,\n",
    "    verbose=5,\n",
    ")\n",
    "folds"
   ]
  },
  {
   "cell_type": "code",
   "execution_count": null,
   "metadata": {
    "collapsed": false
   },
   "outputs": [],
   "source": [
    "# Make some models.\n",
    "models = mhcflurry_cloud.models_grid(\n",
    "    activation=[\"tanh\", \"relu\"],\n",
    "    layer_sizes=[[4]],\n",
    "    embedding_output_dim=[8],\n",
    "    n_training_epochs=[3])\n",
    "models"
   ]
  },
  {
   "cell_type": "code",
   "execution_count": null,
   "metadata": {
    "collapsed": false
   },
   "outputs": [],
   "source": [
    "# Train and test models on the folds.\n",
    "df = mhcflurry_cloud.train_across_models_and_folds(folds, models)\n",
    "df"
   ]
  }
 ],
 "metadata": {
  "kernelspec": {
   "display_name": "Python [py3k]",
   "language": "python",
   "name": "Python [py3k]"
  },
  "language_info": {
   "codemirror_mode": {
    "name": "ipython",
    "version": 3
   },
   "file_extension": ".py",
   "mimetype": "text/x-python",
   "name": "python",
   "nbconvert_exporter": "python",
   "pygments_lexer": "ipython3",
   "version": "3.5.2"
  }
 },
 "nbformat": 4,
 "nbformat_minor": 0
}
